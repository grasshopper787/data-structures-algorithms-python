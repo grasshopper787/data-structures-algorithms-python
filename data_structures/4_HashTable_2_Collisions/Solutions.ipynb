{
 "cells": [
  {
   "cell_type": "code",
   "execution_count": 2,
   "id": "03fbdb57-6e57-412f-b9d4-13e40dc1c111",
   "metadata": {},
   "outputs": [],
   "source": [
    "import numpy as np\n",
    "import pandas as pd"
   ]
  },
  {
   "cell_type": "code",
   "execution_count": 4,
   "id": "6728b066-4134-42c9-b4bc-fd69c5570378",
   "metadata": {},
   "outputs": [],
   "source": [
    "df = pd.read_csv('nyc_weather.csv')"
   ]
  },
  {
   "cell_type": "code",
   "execution_count": 6,
   "id": "98ce5ff7-657c-4666-9af9-3a0d07c312d6",
   "metadata": {},
   "outputs": [],
   "source": [
    "ar = df.to_numpy()"
   ]
  },
  {
   "cell_type": "code",
   "execution_count": 8,
   "id": "7b01494d-ffc8-47a6-ab98-747a90d5b4f5",
   "metadata": {},
   "outputs": [
    {
     "data": {
      "text/plain": [
       "(10, 2)"
      ]
     },
     "execution_count": 8,
     "metadata": {},
     "output_type": "execute_result"
    }
   ],
   "source": [
    "ar.shape"
   ]
  },
  {
   "cell_type": "code",
   "execution_count": 13,
   "id": "168c13f3-eba8-460f-839c-0405188f33fa",
   "metadata": {},
   "outputs": [
    {
     "data": {
      "text/html": [
       "<div>\n",
       "<style scoped>\n",
       "    .dataframe tbody tr th:only-of-type {\n",
       "        vertical-align: middle;\n",
       "    }\n",
       "\n",
       "    .dataframe tbody tr th {\n",
       "        vertical-align: top;\n",
       "    }\n",
       "\n",
       "    .dataframe thead th {\n",
       "        text-align: right;\n",
       "    }\n",
       "</style>\n",
       "<table border=\"1\" class=\"dataframe\">\n",
       "  <thead>\n",
       "    <tr style=\"text-align: right;\">\n",
       "      <th></th>\n",
       "      <th>date</th>\n",
       "      <th>temperature(F)</th>\n",
       "    </tr>\n",
       "  </thead>\n",
       "  <tbody>\n",
       "    <tr>\n",
       "      <th>0</th>\n",
       "      <td>Jan 1</td>\n",
       "      <td>27</td>\n",
       "    </tr>\n",
       "    <tr>\n",
       "      <th>1</th>\n",
       "      <td>Jan 2</td>\n",
       "      <td>31</td>\n",
       "    </tr>\n",
       "    <tr>\n",
       "      <th>2</th>\n",
       "      <td>Jan 3</td>\n",
       "      <td>23</td>\n",
       "    </tr>\n",
       "    <tr>\n",
       "      <th>3</th>\n",
       "      <td>Jan 4</td>\n",
       "      <td>34</td>\n",
       "    </tr>\n",
       "    <tr>\n",
       "      <th>4</th>\n",
       "      <td>Jan 5</td>\n",
       "      <td>37</td>\n",
       "    </tr>\n",
       "    <tr>\n",
       "      <th>5</th>\n",
       "      <td>Jan 6</td>\n",
       "      <td>38</td>\n",
       "    </tr>\n",
       "    <tr>\n",
       "      <th>6</th>\n",
       "      <td>Jan 7</td>\n",
       "      <td>29</td>\n",
       "    </tr>\n",
       "    <tr>\n",
       "      <th>7</th>\n",
       "      <td>Jan 8</td>\n",
       "      <td>30</td>\n",
       "    </tr>\n",
       "    <tr>\n",
       "      <th>8</th>\n",
       "      <td>Jan 9</td>\n",
       "      <td>35</td>\n",
       "    </tr>\n",
       "    <tr>\n",
       "      <th>9</th>\n",
       "      <td>Jan 10</td>\n",
       "      <td>30</td>\n",
       "    </tr>\n",
       "  </tbody>\n",
       "</table>\n",
       "</div>"
      ],
      "text/plain": [
       "     date  temperature(F)\n",
       "0   Jan 1              27\n",
       "1   Jan 2              31\n",
       "2   Jan 3              23\n",
       "3   Jan 4              34\n",
       "4   Jan 5              37\n",
       "5   Jan 6              38\n",
       "6   Jan 7              29\n",
       "7   Jan 8              30\n",
       "8   Jan 9              35\n",
       "9  Jan 10              30"
      ]
     },
     "execution_count": 13,
     "metadata": {},
     "output_type": "execute_result"
    }
   ],
   "source": [
    "df"
   ]
  },
  {
   "cell_type": "code",
   "execution_count": 19,
   "id": "413f1a76-4072-4aca-a44f-2148eb4c45f7",
   "metadata": {},
   "outputs": [
    {
     "data": {
      "text/plain": [
       "31.285714285714285"
      ]
     },
     "execution_count": 19,
     "metadata": {},
     "output_type": "execute_result"
    }
   ],
   "source": [
    "np.mean(df['temperature(F)'][:7])"
   ]
  },
  {
   "cell_type": "code",
   "execution_count": 21,
   "id": "681b3f2c-9c3a-46fa-846d-893cdbd373ee",
   "metadata": {},
   "outputs": [
    {
     "data": {
      "text/plain": [
       "38"
      ]
     },
     "execution_count": 21,
     "metadata": {},
     "output_type": "execute_result"
    }
   ],
   "source": [
    "np.max(df['temperature(F)'])"
   ]
  },
  {
   "cell_type": "code",
   "execution_count": 26,
   "id": "49019346-c67a-4942-92d5-42f1b6bb2ef1",
   "metadata": {},
   "outputs": [],
   "source": [
    "dct_tem = dict(zip(df.date, df['temperature(F)']))"
   ]
  },
  {
   "cell_type": "code",
   "execution_count": 27,
   "id": "d595e3f5-8e36-4f1d-8710-25097c525869",
   "metadata": {},
   "outputs": [
    {
     "data": {
      "text/plain": [
       "35"
      ]
     },
     "execution_count": 27,
     "metadata": {},
     "output_type": "execute_result"
    }
   ],
   "source": [
    "dct_tem['Jan 9']"
   ]
  },
  {
   "cell_type": "code",
   "execution_count": 29,
   "id": "6fe40b9d-0de4-479d-be23-591aa33c1636",
   "metadata": {},
   "outputs": [
    {
     "data": {
      "text/plain": [
       "34"
      ]
     },
     "execution_count": 29,
     "metadata": {},
     "output_type": "execute_result"
    }
   ],
   "source": [
    "dct_tem['Jan 4']"
   ]
  },
  {
   "cell_type": "code",
   "execution_count": 31,
   "id": "3e42bc5b-252b-4e59-8734-ac1df105c10b",
   "metadata": {},
   "outputs": [
    {
     "name": "stdout",
     "output_type": "stream",
     "text": [
      "Two roads diverged in a yellow wood,\n",
      "\n",
      "And sorry I could not travel both\n",
      "\n",
      "And be one traveler, long I stood\n",
      "\n",
      "And looked down one as far as I could\n",
      "\n",
      "To where it bent in the undergrowth;\n",
      "\n",
      "\n",
      "\n",
      "Then took the other, as just as fair,\n",
      "\n",
      "And having perhaps the better claim,\n",
      "\n",
      "Because it was grassy and wanted wear;\n",
      "\n",
      "Though as for that the passing there\n",
      "\n",
      "Had worn them really about the same,\n",
      "\n",
      "\n",
      "\n",
      "And both that morning equally lay\n",
      "\n",
      "In leaves no step had trodden black.\n",
      "\n",
      "Oh, I kept the first for another day!\n",
      "\n",
      "Yet knowing how way leads on to way,\n",
      "\n",
      "I doubted if I should ever come back.\n",
      "\n",
      "\n",
      "\n",
      "I shall be telling this with a sigh\n",
      "\n",
      "Somewhere ages and ages hence:\n",
      "\n",
      "Two roads diverged in a wood, and IвЂ”\n",
      "\n",
      "I took the one less traveled by,\n",
      "\n",
      "And that has made all the difference.\n"
     ]
    }
   ],
   "source": [
    "with open('poem.txt', 'r') as pm:\n",
    "    for el in pm:\n",
    "        print(el)"
   ]
  },
  {
   "cell_type": "code",
   "execution_count": 34,
   "id": "6c43bac3-ef31-47a3-a972-a29d937d3cf9",
   "metadata": {},
   "outputs": [],
   "source": [
    "dict_w = {}\n",
    "\n",
    "with open('poem.txt', 'r') as pm:\n",
    "    for el in pm:\n",
    "        lst = el.split(' ')\n",
    "        for el_lst in lst:\n",
    "            el_lst = el_lst.replace('\\n', '')\n",
    "            if el_lst in dict_w.keys():\n",
    "                dict_w[el_lst] += 1\n",
    "            else:\n",
    "                dict_w[el_lst] = 1\n",
    "        "
   ]
  },
  {
   "cell_type": "code",
   "execution_count": 35,
   "id": "3944472d-43e7-481c-a297-570eba4cd573",
   "metadata": {},
   "outputs": [
    {
     "data": {
      "text/plain": [
       "{'Two': 2,\n",
       " 'roads': 2,\n",
       " 'diverged': 2,\n",
       " 'in': 3,\n",
       " 'a': 3,\n",
       " 'yellow': 1,\n",
       " 'wood,': 2,\n",
       " 'And': 6,\n",
       " 'sorry': 1,\n",
       " 'I': 8,\n",
       " 'could': 2,\n",
       " 'not': 1,\n",
       " 'travel': 1,\n",
       " 'both': 2,\n",
       " 'be': 2,\n",
       " 'one': 3,\n",
       " 'traveler,': 1,\n",
       " 'long': 1,\n",
       " 'stood': 1,\n",
       " 'looked': 1,\n",
       " 'down': 1,\n",
       " 'as': 5,\n",
       " 'far': 1,\n",
       " 'To': 1,\n",
       " 'where': 1,\n",
       " 'it': 2,\n",
       " 'bent': 1,\n",
       " 'the': 8,\n",
       " 'undergrowth;': 1,\n",
       " '': 3,\n",
       " 'Then': 1,\n",
       " 'took': 2,\n",
       " 'other,': 1,\n",
       " 'just': 1,\n",
       " 'fair,': 1,\n",
       " 'having': 1,\n",
       " 'perhaps': 1,\n",
       " 'better': 1,\n",
       " 'claim,': 1,\n",
       " 'Because': 1,\n",
       " 'was': 1,\n",
       " 'grassy': 1,\n",
       " 'and': 3,\n",
       " 'wanted': 1,\n",
       " 'wear;': 1,\n",
       " 'Though': 1,\n",
       " 'for': 2,\n",
       " 'that': 3,\n",
       " 'passing': 1,\n",
       " 'there': 1,\n",
       " 'Had': 1,\n",
       " 'worn': 1,\n",
       " 'them': 1,\n",
       " 'really': 1,\n",
       " 'about': 1,\n",
       " 'same,': 1,\n",
       " 'morning': 1,\n",
       " 'equally': 1,\n",
       " 'lay': 1,\n",
       " 'In': 1,\n",
       " 'leaves': 1,\n",
       " 'no': 1,\n",
       " 'step': 1,\n",
       " 'had': 1,\n",
       " 'trodden': 1,\n",
       " 'black.': 1,\n",
       " 'Oh,': 1,\n",
       " 'kept': 1,\n",
       " 'first': 1,\n",
       " 'another': 1,\n",
       " 'day!': 1,\n",
       " 'Yet': 1,\n",
       " 'knowing': 1,\n",
       " 'how': 1,\n",
       " 'way': 1,\n",
       " 'leads': 1,\n",
       " 'on': 1,\n",
       " 'to': 1,\n",
       " 'way,': 1,\n",
       " 'doubted': 1,\n",
       " 'if': 1,\n",
       " 'should': 1,\n",
       " 'ever': 1,\n",
       " 'come': 1,\n",
       " 'back.': 1,\n",
       " 'shall': 1,\n",
       " 'telling': 1,\n",
       " 'this': 1,\n",
       " 'with': 1,\n",
       " 'sigh': 1,\n",
       " 'Somewhere': 1,\n",
       " 'ages': 2,\n",
       " 'hence:': 1,\n",
       " 'IвЂ”': 1,\n",
       " 'less': 1,\n",
       " 'traveled': 1,\n",
       " 'by,': 1,\n",
       " 'has': 1,\n",
       " 'made': 1,\n",
       " 'all': 1,\n",
       " 'difference.': 1}"
      ]
     },
     "execution_count": 35,
     "metadata": {},
     "output_type": "execute_result"
    }
   ],
   "source": [
    "dict_w"
   ]
  },
  {
   "cell_type": "code",
   "execution_count": 36,
   "id": "38abc1ec-d1c5-4002-ac83-ca9dd318433d",
   "metadata": {},
   "outputs": [],
   "source": [
    "#Implement hash table collision handling using linear probing"
   ]
  },
  {
   "cell_type": "code",
   "execution_count": 41,
   "id": "105f0fdf-ab40-4c49-ae65-64841a91ba96",
   "metadata": {},
   "outputs": [],
   "source": [
    "def hash_func(str_el: str, num_of_el: int) -> int:\n",
    "    sum_h = 0\n",
    "    for el in str_el:\n",
    "        sum_h += ord(el)\n",
    "    \n",
    "    mod = sum_h % num_of_el\n",
    "    \n",
    "    return mod    "
   ]
  },
  {
   "cell_type": "code",
   "execution_count": 42,
   "id": "ee7df7db-a121-463f-9c0f-a023d418ed90",
   "metadata": {},
   "outputs": [
    {
     "data": {
      "text/plain": [
       "5"
      ]
     },
     "execution_count": 42,
     "metadata": {},
     "output_type": "execute_result"
    }
   ],
   "source": [
    "hash_func('august', 10)"
   ]
  },
  {
   "cell_type": "code",
   "execution_count": 75,
   "id": "676b82f8-9483-4f7c-b838-63054c64c4c3",
   "metadata": {},
   "outputs": [],
   "source": [
    "class HashTable:\n",
    "    def __init__(self, num_of_rows):\n",
    "        self.num_of_rows = num_of_rows\n",
    "        self.arr = [None for _ in range(self.num_of_rows)]\n",
    "    \n",
    "    def get_hash(self, key):\n",
    "        sum_h = 0\n",
    "        for el in key:\n",
    "            sum_h += ord(el)\n",
    "        mod = sum_h % self.num_of_rows\n",
    "        return mod  \n",
    "    \n",
    "    def __getitem__(self, index):\n",
    "        h = self.get_hash(index)\n",
    "        return self.arr[h]\n",
    "    \n",
    "    def __setitem__(self, key, value):\n",
    "        h = self.get_hash(key)\n",
    "        self.arr[h] = value\n",
    "        \n",
    "    def __delitem__(self, key):\n",
    "        h = self.get_hash(key)\n",
    "        del self.arr[h]"
   ]
  },
  {
   "cell_type": "code",
   "execution_count": 76,
   "id": "e67073a3-532d-4184-8f2d-b189c33fd7dd",
   "metadata": {},
   "outputs": [],
   "source": [
    "ht = HashTable(10)"
   ]
  },
  {
   "cell_type": "code",
   "execution_count": 77,
   "id": "fefc5014-05d0-4b4a-a12c-00975af70741",
   "metadata": {},
   "outputs": [],
   "source": [
    "ht[\"march 6\"] = 120\n",
    "ht[\"march 8\"] = 67\n",
    "ht[\"march 9\"] = 4\n",
    "ht[\"march 17\"] = 459"
   ]
  },
  {
   "cell_type": "code",
   "execution_count": 78,
   "id": "1869462d-76d7-4c07-8c6c-9152a149a8b4",
   "metadata": {},
   "outputs": [
    {
     "data": {
      "text/plain": [
       "459"
      ]
     },
     "execution_count": 78,
     "metadata": {},
     "output_type": "execute_result"
    }
   ],
   "source": [
    "ht[\"march 6\"] "
   ]
  },
  {
   "cell_type": "code",
   "execution_count": 79,
   "id": "fb72afda-ac03-43b6-b7a9-607f5fa91f76",
   "metadata": {},
   "outputs": [
    {
     "data": {
      "text/plain": [
       "9"
      ]
     },
     "execution_count": 79,
     "metadata": {},
     "output_type": "execute_result"
    }
   ],
   "source": [
    "ht.get_hash(\"march 6\")"
   ]
  },
  {
   "cell_type": "code",
   "execution_count": 80,
   "id": "9d218d68-2c14-4968-87a3-c88f72070382",
   "metadata": {},
   "outputs": [
    {
     "data": {
      "text/plain": [
       "9"
      ]
     },
     "execution_count": 80,
     "metadata": {},
     "output_type": "execute_result"
    }
   ],
   "source": [
    "ht.get_hash(\"march 17\")"
   ]
  },
  {
   "cell_type": "code",
   "execution_count": 81,
   "id": "81ee57f5-44a1-4315-9396-a3c3306a307e",
   "metadata": {},
   "outputs": [
    {
     "data": {
      "text/plain": [
       "[None, 67, 4, None, None, None, None, None, None, 459]"
      ]
     },
     "execution_count": 81,
     "metadata": {},
     "output_type": "execute_result"
    }
   ],
   "source": [
    "ht.arr"
   ]
  },
  {
   "cell_type": "code",
   "execution_count": 82,
   "id": "df7b2f63-7f78-484b-9811-823caca1e168",
   "metadata": {},
   "outputs": [],
   "source": [
    "del ht['march 8']"
   ]
  },
  {
   "cell_type": "code",
   "execution_count": 83,
   "id": "716067ec-3837-4752-b176-05c2ed14fa94",
   "metadata": {},
   "outputs": [
    {
     "data": {
      "text/plain": [
       "9"
      ]
     },
     "execution_count": 83,
     "metadata": {},
     "output_type": "execute_result"
    }
   ],
   "source": [
    "len(ht.arr)"
   ]
  },
  {
   "cell_type": "code",
   "execution_count": null,
   "id": "bddee77e-9c11-47f6-aa9f-a344a61305d7",
   "metadata": {},
   "outputs": [],
   "source": []
  }
 ],
 "metadata": {
  "kernelspec": {
   "display_name": "Python 3 (ipykernel)",
   "language": "python",
   "name": "python3"
  },
  "language_info": {
   "codemirror_mode": {
    "name": "ipython",
    "version": 3
   },
   "file_extension": ".py",
   "mimetype": "text/x-python",
   "name": "python",
   "nbconvert_exporter": "python",
   "pygments_lexer": "ipython3",
   "version": "3.10.4"
  }
 },
 "nbformat": 4,
 "nbformat_minor": 5
}
